{
 "cells": [
  {
   "cell_type": "markdown",
   "metadata": {},
   "source": [
    "### Pyspark Handling Missing Values\n",
    "\n",
    "- Dropping Columns\n",
    "- Dropping Rows\n",
    "- Variou Parameter In Dropping functionalities\n",
    "- Handling Missing values by Mean, Median And Mode"
   ]
  },
  {
   "cell_type": "code",
   "execution_count": 1,
   "metadata": {},
   "outputs": [],
   "source": [
    "from pyspark.sql import SparkSession"
   ]
  },
  {
   "cell_type": "code",
   "execution_count": 3,
   "metadata": {},
   "outputs": [],
   "source": [
    "spark = SparkSession.builder.appName('practice').getOrCreate()"
   ]
  },
  {
   "cell_type": "code",
   "execution_count": 4,
   "metadata": {},
   "outputs": [
    {
     "data": {
      "text/html": [
       "\n",
       "            <div>\n",
       "                <p><b>SparkSession - in-memory</b></p>\n",
       "                \n",
       "        <div>\n",
       "            <p><b>SparkContext</b></p>\n",
       "\n",
       "            <p><a href=\"http://LAPTOP-FA7D19QD:4040\">Spark UI</a></p>\n",
       "\n",
       "            <dl>\n",
       "              <dt>Version</dt>\n",
       "                <dd><code>v3.1.2</code></dd>\n",
       "              <dt>Master</dt>\n",
       "                <dd><code>local[*]</code></dd>\n",
       "              <dt>AppName</dt>\n",
       "                <dd><code>practice</code></dd>\n",
       "            </dl>\n",
       "        </div>\n",
       "        \n",
       "            </div>\n",
       "        "
      ],
      "text/plain": [
       "<pyspark.sql.session.SparkSession at 0x2251e809250>"
      ]
     },
     "execution_count": 4,
     "metadata": {},
     "output_type": "execute_result"
    }
   ],
   "source": [
    "spark"
   ]
  },
  {
   "cell_type": "code",
   "execution_count": 6,
   "metadata": {},
   "outputs": [],
   "source": [
    "df_pyspark = spark.read.csv('dataset/test1.csv', header = True, inferSchema = True)"
   ]
  },
  {
   "cell_type": "code",
   "execution_count": 8,
   "metadata": {},
   "outputs": [
    {
     "name": "stdout",
     "output_type": "stream",
     "text": [
      "+------+----+----------+------+\n",
      "|  Name| age|Experience|Salary|\n",
      "+------+----+----------+------+\n",
      "| Krish|  31|        10| 30000|\n",
      "|Sudhan|  30|         8| 25000|\n",
      "| Sunny|  29|         4| 20000|\n",
      "|  Paul|  24|         3| 20000|\n",
      "|Harsha|  21|         1| 15000|\n",
      "|Eonkim|  23|         2| 18000|\n",
      "|  Jeff|  24|         5| 21000|\n",
      "|Mahesh|null|      null| 40000|\n",
      "|  null|  34|        10| 38000|\n",
      "|  null|  36|      null|  null|\n",
      "+------+----+----------+------+\n",
      "\n"
     ]
    }
   ],
   "source": [
    "df_pyspark.show()"
   ]
  },
  {
   "cell_type": "code",
   "execution_count": 14,
   "metadata": {},
   "outputs": [
    {
     "name": "stdout",
     "output_type": "stream",
     "text": [
      "+----+----------+------+\n",
      "| age|Experience|Salary|\n",
      "+----+----------+------+\n",
      "|  31|        10| 30000|\n",
      "|  30|         8| 25000|\n",
      "|  29|         4| 20000|\n",
      "|  24|         3| 20000|\n",
      "|  21|         1| 15000|\n",
      "|  23|         2| 18000|\n",
      "|  24|         5| 21000|\n",
      "|null|      null| 40000|\n",
      "|  34|        10| 38000|\n",
      "|  36|      null|  null|\n",
      "+----+----------+------+\n",
      "\n"
     ]
    }
   ],
   "source": [
    "# drop column\n",
    "df_pyspark.drop('Name').show()"
   ]
  },
  {
   "cell_type": "code",
   "execution_count": 16,
   "metadata": {},
   "outputs": [
    {
     "name": "stdout",
     "output_type": "stream",
     "text": [
      "+------+---+----------+------+\n",
      "|  Name|age|Experience|Salary|\n",
      "+------+---+----------+------+\n",
      "| Krish| 31|        10| 30000|\n",
      "|Sudhan| 30|         8| 25000|\n",
      "| Sunny| 29|         4| 20000|\n",
      "|  Paul| 24|         3| 20000|\n",
      "|Harsha| 21|         1| 15000|\n",
      "|Eonkim| 23|         2| 18000|\n",
      "|  Jeff| 24|         5| 21000|\n",
      "+------+---+----------+------+\n",
      "\n"
     ]
    }
   ],
   "source": [
    "# drop row\n",
    "df_pyspark.dropna().show()"
   ]
  },
  {
   "cell_type": "code",
   "execution_count": 17,
   "metadata": {},
   "outputs": [
    {
     "name": "stdout",
     "output_type": "stream",
     "text": [
      "+------+---+----------+------+\n",
      "|  Name|age|Experience|Salary|\n",
      "+------+---+----------+------+\n",
      "| Krish| 31|        10| 30000|\n",
      "|Sudhan| 30|         8| 25000|\n",
      "| Sunny| 29|         4| 20000|\n",
      "|  Paul| 24|         3| 20000|\n",
      "|Harsha| 21|         1| 15000|\n",
      "|Eonkim| 23|         2| 18000|\n",
      "|  Jeff| 24|         5| 21000|\n",
      "+------+---+----------+------+\n",
      "\n"
     ]
    }
   ],
   "source": [
    "# .na.drop() == dropna()\n",
    "df_pyspark.na.drop().show()"
   ]
  },
  {
   "cell_type": "code",
   "execution_count": 22,
   "metadata": {},
   "outputs": [
    {
     "name": "stdout",
     "output_type": "stream",
     "text": [
      "+------+----+----------+------+\n",
      "|  Name| age|Experience|Salary|\n",
      "+------+----+----------+------+\n",
      "| Krish|  31|        10| 30000|\n",
      "|Sudhan|  30|         8| 25000|\n",
      "| Sunny|  29|         4| 20000|\n",
      "|  Paul|  24|         3| 20000|\n",
      "|Harsha|  21|         1| 15000|\n",
      "|Eonkim|  23|         2| 18000|\n",
      "|  Jeff|  24|         5| 21000|\n",
      "|Mahesh|null|      null| 40000|\n",
      "|  null|  34|        10| 38000|\n",
      "|  null|  36|      null|  null|\n",
      "+------+----+----------+------+\n",
      "\n"
     ]
    }
   ],
   "source": [
    "### any == how / default -> any\n",
    "# all -> 전부 null 값을 가지면 제거한다.\n",
    "# any -> 하나라도 null 값을 가지면 제거한다.\n",
    "df_pyspark.na.drop(how = 'all').show()"
   ]
  },
  {
   "cell_type": "code",
   "execution_count": 24,
   "metadata": {},
   "outputs": [
    {
     "name": "stdout",
     "output_type": "stream",
     "text": [
      "+------+----+----------+------+\n",
      "|  Name| age|Experience|Salary|\n",
      "+------+----+----------+------+\n",
      "| Krish|  31|        10| 30000|\n",
      "|Sudhan|  30|         8| 25000|\n",
      "| Sunny|  29|         4| 20000|\n",
      "|  Paul|  24|         3| 20000|\n",
      "|Harsha|  21|         1| 15000|\n",
      "|Eonkim|  23|         2| 18000|\n",
      "|  Jeff|  24|         5| 21000|\n",
      "|Mahesh|null|      null| 40000|\n",
      "|  null|  34|        10| 38000|\n",
      "|  null|  36|      null|  null|\n",
      "+------+----+----------+------+\n",
      "\n"
     ]
    }
   ],
   "source": [
    "df_pyspark.dropna(how = 'all').show()"
   ]
  },
  {
   "cell_type": "code",
   "execution_count": 41,
   "metadata": {},
   "outputs": [
    {
     "name": "stdout",
     "output_type": "stream",
     "text": [
      "+------+----+----------+------+\n",
      "|  Name| age|Experience|Salary|\n",
      "+------+----+----------+------+\n",
      "| Krish|  31|        10| 30000|\n",
      "|Sudhan|  30|         8| 25000|\n",
      "| Sunny|  29|         4| 20000|\n",
      "|  Paul|  24|         3| 20000|\n",
      "|Harsha|  21|         1| 15000|\n",
      "|Eonkim|  23|         2| 18000|\n",
      "|  Jeff|  24|         5| 21000|\n",
      "|Mahesh|null|      null| 40000|\n",
      "|  null|  34|        10| 38000|\n",
      "|  null|  36|      null|  null|\n",
      "+------+----+----------+------+\n",
      "\n"
     ]
    }
   ],
   "source": [
    "# thresh -> 임계값이다. null 값이 아닌 column의 수를 의미한다.\n",
    "# null 값이 아닌 column이 최소 thresh 만큼 있어야 한다는 것을 의미.\n",
    "df_pyspark.dropna(how = 'all', thresh = 1).show()"
   ]
  },
  {
   "cell_type": "code",
   "execution_count": 38,
   "metadata": {},
   "outputs": [
    {
     "name": "stdout",
     "output_type": "stream",
     "text": [
      "+------+---+----------+------+\n",
      "|  Name|age|Experience|Salary|\n",
      "+------+---+----------+------+\n",
      "| Krish| 31|        10| 30000|\n",
      "|Sudhan| 30|         8| 25000|\n",
      "| Sunny| 29|         4| 20000|\n",
      "|  Paul| 24|         3| 20000|\n",
      "|Harsha| 21|         1| 15000|\n",
      "|Eonkim| 23|         2| 18000|\n",
      "|  Jeff| 24|         5| 21000|\n",
      "|  null| 34|        10| 38000|\n",
      "+------+---+----------+------+\n",
      "\n"
     ]
    }
   ],
   "source": [
    "df_pyspark.dropna(how = 'any', thresh = 3).show()"
   ]
  },
  {
   "cell_type": "code",
   "execution_count": 43,
   "metadata": {},
   "outputs": [
    {
     "name": "stdout",
     "output_type": "stream",
     "text": [
      "+------+---+----------+------+\n",
      "|  Name|age|Experience|Salary|\n",
      "+------+---+----------+------+\n",
      "| Krish| 31|        10| 30000|\n",
      "|Sudhan| 30|         8| 25000|\n",
      "| Sunny| 29|         4| 20000|\n",
      "|  Paul| 24|         3| 20000|\n",
      "|Harsha| 21|         1| 15000|\n",
      "|Eonkim| 23|         2| 18000|\n",
      "|  Jeff| 24|         5| 21000|\n",
      "|  null| 34|        10| 38000|\n",
      "|  null| 36|      null|  null|\n",
      "+------+---+----------+------+\n",
      "\n"
     ]
    }
   ],
   "source": [
    "# subset\n",
    "# 특정 열을 기준으로 dropna를 하고 싶을땐 subset을 통해 진행할 수 있다. \n",
    "df_pyspark.na.drop(how = 'any', subset = ['age']).show()"
   ]
  },
  {
   "cell_type": "code",
   "execution_count": 51,
   "metadata": {},
   "outputs": [],
   "source": [
    "# Filling the Missing Value\n",
    "df_pyspark1 = spark.read.csv('dataset/test1.csv', header = True)"
   ]
  },
  {
   "cell_type": "code",
   "execution_count": 53,
   "metadata": {},
   "outputs": [
    {
     "name": "stdout",
     "output_type": "stream",
     "text": [
      "root\n",
      " |-- Name: string (nullable = true)\n",
      " |-- age: string (nullable = true)\n",
      " |-- Experience: string (nullable = true)\n",
      " |-- Salary: string (nullable = true)\n",
      "\n"
     ]
    }
   ],
   "source": [
    "df_pyspark1.printSchema()"
   ]
  },
  {
   "cell_type": "code",
   "execution_count": 56,
   "metadata": {},
   "outputs": [
    {
     "name": "stdout",
     "output_type": "stream",
     "text": [
      "+--------------+--------------+--------------+--------------+\n",
      "|          Name|           age|    Experience|        Salary|\n",
      "+--------------+--------------+--------------+--------------+\n",
      "|         Krish|            31|            10|         30000|\n",
      "|        Sudhan|            30|             8|         25000|\n",
      "|         Sunny|            29|             4|         20000|\n",
      "|          Paul|            24|             3|         20000|\n",
      "|        Harsha|            21|             1|         15000|\n",
      "|        Eonkim|            23|             2|         18000|\n",
      "|          Jeff|            24|             5|         21000|\n",
      "|        Mahesh|Missing Values|Missing Values|         40000|\n",
      "|Missing Values|            34|            10|         38000|\n",
      "|Missing Values|            36|Missing Values|Missing Values|\n",
      "+--------------+--------------+--------------+--------------+\n",
      "\n"
     ]
    }
   ],
   "source": [
    "# 만약 column의 schema가 string일 경우 string에 대해서만 채우기가 되고, \n",
    "# integer일 경우 fill 안의 value를 integer로 입력해야지만 fill이 된다. \n",
    "df_pyspark1.na.fill('Missing Values').show()"
   ]
  },
  {
   "cell_type": "code",
   "execution_count": 58,
   "metadata": {},
   "outputs": [
    {
     "name": "stdout",
     "output_type": "stream",
     "text": [
      "+--------------+--------------+--------------+--------------+\n",
      "|          Name|           age|    Experience|        Salary|\n",
      "+--------------+--------------+--------------+--------------+\n",
      "|         Krish|            31|            10|         30000|\n",
      "|        Sudhan|            30|             8|         25000|\n",
      "|         Sunny|            29|             4|         20000|\n",
      "|          Paul|            24|             3|         20000|\n",
      "|        Harsha|            21|             1|         15000|\n",
      "|        Eonkim|            23|             2|         18000|\n",
      "|          Jeff|            24|             5|         21000|\n",
      "|        Mahesh|Missing Values|Missing Values|         40000|\n",
      "|Missing Values|            34|            10|         38000|\n",
      "|Missing Values|            36|Missing Values|Missing Values|\n",
      "+--------------+--------------+--------------+--------------+\n",
      "\n"
     ]
    }
   ],
   "source": [
    "df_pyspark1.fillna('Missing Values').show()"
   ]
  },
  {
   "cell_type": "code",
   "execution_count": 60,
   "metadata": {},
   "outputs": [
    {
     "name": "stdout",
     "output_type": "stream",
     "text": [
      "+--------------+----+----------+------+\n",
      "|          Name| age|Experience|Salary|\n",
      "+--------------+----+----------+------+\n",
      "|         Krish|  31|        10| 30000|\n",
      "|        Sudhan|  30|         8| 25000|\n",
      "|         Sunny|  29|         4| 20000|\n",
      "|          Paul|  24|         3| 20000|\n",
      "|        Harsha|  21|         1| 15000|\n",
      "|        Eonkim|  23|         2| 18000|\n",
      "|          Jeff|  24|         5| 21000|\n",
      "|        Mahesh|null|      null| 40000|\n",
      "|Missing Values|  34|        10| 38000|\n",
      "|Missing Values|  36|      null|  null|\n",
      "+--------------+----+----------+------+\n",
      "\n"
     ]
    }
   ],
   "source": [
    "# fillna(value, column)\n",
    "# value -> 대체하고 싶은 값\n",
    "# column -> 실행하고 싶은 값\n",
    "df_pyspark1.fillna('Missing Values', 'Name').show()"
   ]
  },
  {
   "cell_type": "code",
   "execution_count": 59,
   "metadata": {},
   "outputs": [
    {
     "name": "stdout",
     "output_type": "stream",
     "text": [
      "+------+----+----------+------+\n",
      "|  Name| age|Experience|Salary|\n",
      "+------+----+----------+------+\n",
      "| Krish|  31|        10| 30000|\n",
      "|Sudhan|  30|         8| 25000|\n",
      "| Sunny|  29|         4| 20000|\n",
      "|  Paul|  24|         3| 20000|\n",
      "|Harsha|  21|         1| 15000|\n",
      "|Eonkim|  23|         2| 18000|\n",
      "|  Jeff|  24|         5| 21000|\n",
      "|Mahesh|null|      null| 40000|\n",
      "|  null|  34|        10| 38000|\n",
      "|  null|  36|      null|  null|\n",
      "+------+----+----------+------+\n",
      "\n"
     ]
    }
   ],
   "source": [
    "df_pyspark1.fillna(10).show()"
   ]
  },
  {
   "cell_type": "code",
   "execution_count": 64,
   "metadata": {},
   "outputs": [
    {
     "name": "stdout",
     "output_type": "stream",
     "text": [
      "+--------------+----+----------+------+\n",
      "|          Name| age|Experience|Salary|\n",
      "+--------------+----+----------+------+\n",
      "|         Krish|  31|        10| 30000|\n",
      "|        Sudhan|  30|         8| 25000|\n",
      "|         Sunny|  29|         4| 20000|\n",
      "|          Paul|  24|         3| 20000|\n",
      "|        Harsha|  21|         1| 15000|\n",
      "|        Eonkim|  23|         2| 18000|\n",
      "|          Jeff|  24|         5| 21000|\n",
      "|        Mahesh|null|      null| 40000|\n",
      "|Missing Values|  34|        10| 38000|\n",
      "|Missing Values|  36|      null|  null|\n",
      "+--------------+----+----------+------+\n",
      "\n"
     ]
    }
   ],
   "source": [
    "df_pyspark.fillna('Missing Values', ['Name', 'Experience']).show()"
   ]
  },
  {
   "cell_type": "code",
   "execution_count": 65,
   "metadata": {},
   "outputs": [],
   "source": [
    "from pyspark.ml.feature import Imputer"
   ]
  },
  {
   "cell_type": "code",
   "execution_count": 87,
   "metadata": {},
   "outputs": [],
   "source": [
    "# Imputer(inputCols, outputCols).setStrategy('mean')\n",
    "# 새로운 column은 nan값을 setStartegy('mean')으로 대체한 상태로 채워진다.\n",
    "imputer_mean = Imputer(\n",
    "    inputCols = ['age', 'Experience', 'Salary'], \n",
    "    outputCols = ['{}.inputed'.format(c) for c in ['age', 'Experience', 'Salary']]\n",
    ").setStrategy('mean')"
   ]
  },
  {
   "cell_type": "code",
   "execution_count": 88,
   "metadata": {},
   "outputs": [
    {
     "name": "stdout",
     "output_type": "stream",
     "text": [
      "+------+----+----------+------+-----------+------------------+--------------+\n",
      "|  Name| age|Experience|Salary|age.inputed|Experience.inputed|Salary.inputed|\n",
      "+------+----+----------+------+-----------+------------------+--------------+\n",
      "| Krish|  31|        10| 30000|         31|                10|         30000|\n",
      "|Sudhan|  30|         8| 25000|         30|                 8|         25000|\n",
      "| Sunny|  29|         4| 20000|         29|                 4|         20000|\n",
      "|  Paul|  24|         3| 20000|         24|                 3|         20000|\n",
      "|Harsha|  21|         1| 15000|         21|                 1|         15000|\n",
      "|Eonkim|  23|         2| 18000|         23|                 2|         18000|\n",
      "|  Jeff|  24|         5| 21000|         24|                 5|         21000|\n",
      "|Mahesh|null|      null| 40000|         28|                 5|         40000|\n",
      "|  null|  34|        10| 38000|         34|                10|         38000|\n",
      "|  null|  36|      null|  null|         36|                 5|         25222|\n",
      "+------+----+----------+------+-----------+------------------+--------------+\n",
      "\n"
     ]
    }
   ],
   "source": [
    "imputer_mean.fit(df_pyspark).transform(df_pyspark).show()"
   ]
  },
  {
   "cell_type": "code",
   "execution_count": 71,
   "metadata": {},
   "outputs": [
    {
     "name": "stdout",
     "output_type": "stream",
     "text": [
      "+------+----+----------+------+\n",
      "|  Name| age|Experience|Salary|\n",
      "+------+----+----------+------+\n",
      "| Krish|  31|        10| 30000|\n",
      "|Sudhan|  30|         8| 25000|\n",
      "| Sunny|  29|         4| 20000|\n",
      "|  Paul|  24|         3| 20000|\n",
      "|Harsha|  21|         1| 15000|\n",
      "|Eonkim|  23|         2| 18000|\n",
      "|  Jeff|  24|         5| 21000|\n",
      "|Mahesh|null|      null| 40000|\n",
      "|  null|  34|        10| 38000|\n",
      "|  null|  36|      null|  null|\n",
      "+------+----+----------+------+\n",
      "\n"
     ]
    }
   ],
   "source": [
    "df_pyspark.show()"
   ]
  },
  {
   "cell_type": "code",
   "execution_count": 83,
   "metadata": {},
   "outputs": [],
   "source": [
    "imputer_median = Imputer(\n",
    "    inputCols = ['age', 'Experience', 'Salary'], \n",
    "    outputCols = [f'{c}.imputed' for c in ['age', 'Experience', 'Salary']]\n",
    ").setStrategy('median')"
   ]
  },
  {
   "cell_type": "code",
   "execution_count": 86,
   "metadata": {},
   "outputs": [
    {
     "name": "stdout",
     "output_type": "stream",
     "text": [
      "+------+----+----------+------+-----------+------------------+--------------+\n",
      "|  Name| age|Experience|Salary|age.imputed|Experience.imputed|Salary.imputed|\n",
      "+------+----+----------+------+-----------+------------------+--------------+\n",
      "| Krish|  31|        10| 30000|         31|                10|         30000|\n",
      "|Sudhan|  30|         8| 25000|         30|                 8|         25000|\n",
      "| Sunny|  29|         4| 20000|         29|                 4|         20000|\n",
      "|  Paul|  24|         3| 20000|         24|                 3|         20000|\n",
      "|Harsha|  21|         1| 15000|         21|                 1|         15000|\n",
      "|Eonkim|  23|         2| 18000|         23|                 2|         18000|\n",
      "|  Jeff|  24|         5| 21000|         24|                 5|         21000|\n",
      "|Mahesh|null|      null| 40000|         29|                 4|         40000|\n",
      "|  null|  34|        10| 38000|         34|                10|         38000|\n",
      "|  null|  36|      null|  null|         36|                 4|         21000|\n",
      "+------+----+----------+------+-----------+------------------+--------------+\n",
      "\n"
     ]
    }
   ],
   "source": [
    "imputer_median.fit(df_pyspark).transform(df_pyspark).show()"
   ]
  }
 ],
 "metadata": {
  "interpreter": {
   "hash": "1baa965d5efe3ac65b79dfc60c0d706280b1da80fedb7760faf2759126c4f253"
  },
  "kernelspec": {
   "display_name": "Python 3.8.5 64-bit",
   "language": "python",
   "name": "python3"
  },
  "language_info": {
   "codemirror_mode": {
    "name": "ipython",
    "version": 3
   },
   "file_extension": ".py",
   "mimetype": "text/x-python",
   "name": "python",
   "nbconvert_exporter": "python",
   "pygments_lexer": "ipython3",
   "version": "3.9.7"
  },
  "orig_nbformat": 4
 },
 "nbformat": 4,
 "nbformat_minor": 2
}
